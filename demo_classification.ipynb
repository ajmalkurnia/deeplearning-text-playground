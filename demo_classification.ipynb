{
 "cells": [
  {
   "cell_type": "markdown",
   "metadata": {},
   "source": [
    "# This is a more readable demo on classification\n",
    "\n",
    "## Table of Content\n",
    "\n",
    "   1. Load Data\n",
    "   2. Preprocessing\n",
    "   3. Initialized model:\n",
    "       1. CNN\n",
    "       2. RNN\n",
    "       3. RNN + Attention\n",
    "       4. Transformer\n",
    "   4. Evaluation model"
   ]
  },
  {
   "cell_type": "markdown",
   "metadata": {},
   "source": [
    "### 1. Load Dataset"
   ]
  },
  {
   "cell_type": "code",
   "execution_count": null,
   "metadata": {},
   "outputs": [],
   "source": [
    "import pandas as pd\n",
    "DATA_PATH = \"resources/dataset/Twitter_Emotion_Dataset.csv\"\n",
    "\n",
    "dataframe = pd.readcsv(DATA_PATH)"
   ]
  },
  {
   "source": [
    "### 2. Preprocessing Data"
   ],
   "cell_type": "markdown",
   "metadata": {}
  },
  {
   "cell_type": "code",
   "execution_count": null,
   "metadata": {},
   "outputs": [],
   "source": [
    "from common.tokenization import NLTKToknizerWrapper\n",
    "from common.util import remove_characters, remove_words\n",
    "\n",
    "# Tokenization\n",
    "tokenizer = NLTKToknizerWrapper(False)\n",
    "df[\"token\"] = df[\"text\"].apply(lambda t: tokenizer.tokenize(t.lower()))\n",
    "\n",
    "# Preprocessing\n",
    "# Remove punctuation\n",
    "X = [[remove_characters(token) for token in tokens] for tokens in X]\n",
    "# Remove empty token\n",
    "X = [list(filter(lambda x: x != '', tokens)) for tokens in X]\n",
    "# Remove stopwords\n",
    "id_stopwords = stopwords.words('indonesian')\n",
    "X = [remove_words(tokens, id_stopwords) for tokens in X]\n",
    "X = df[\"token\"].values.tolist()\n",
    "y = df[\"label\"].values.tolist()\n"
   ]
  }
 ],
 "metadata": {
  "kernelspec": {
   "display_name": "Python 3.6.9 64-bit",
   "language": "python",
   "name": "python36964bita5ef3e741f084861b81aecbe4672bddc"
  },
  "language_info": {
   "codemirror_mode": {
    "name": "ipython",
    "version": 3
   },
   "file_extension": ".py",
   "mimetype": "text/x-python",
   "name": "python",
   "nbconvert_exporter": "python",
   "pygments_lexer": "ipython3",
   "version": "3.6.9-final"
  }
 },
 "nbformat": 4,
 "nbformat_minor": 2
}